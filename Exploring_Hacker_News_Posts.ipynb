{
 "cells": [
  {
   "cell_type": "markdown",
   "id": "a4a2a2e4-9b56-4468-b81e-4acb536e9ff2",
   "metadata": {},
   "source": [
    "# Exploring Hackers News Posts\r\n",
    "\r\n",
    "In this project, we'll compare two different types of posts from [Hacker News](https://news.ycombinator.com/), a popular site where technology related stories (or 'posts') are voted and commented upon. The two types of posts we'll explore begin with either `Ask HN` or `Show HN`.\r\n",
    "\r\n",
    "Users submit `Ask HN` posts to ask the Hacker News community a specific question, such as \"What is the best online course you've ever taken?\" Likewise, users submit `Show HN` posts to show the Hacker News community a project, product, or just generally something interestin\r\n",
    "\r\n",
    "We'll specifically compare these two types of posts to determine the following:\r\n",
    "\r\n",
    "- Do `Ask HN` or `Show HN` receive more comments on average    \r\n",
    "- Do posts created at a certain time receive more comments on average?\r\n",
    "    \r\n",
    "It should be noted that the data set we're working with was reduced from almost 300,000 rows to approximately 20,000 rows by removing all submissions that did not receive any comments, and then randomly sampling from the remaining submissions.ubmissions.ons.g."
   ]
  },
  {
   "cell_type": "markdown",
   "id": "2360e542-9dd8-4cbd-a070-c8fee8bc4e7d",
   "metadata": {},
   "source": [
    "# Introduction\n",
    "\n",
    "First, we'll read the data and remove the headers.\n"
   ]
  },
  {
   "cell_type": "code",
   "execution_count": 41,
   "id": "a2ea86be-29cb-4ddc-8173-45eef1d25ac2",
   "metadata": {},
   "outputs": [
    {
     "name": "stdout",
     "output_type": "stream",
     "text": [
      "\n",
      "HEADER:\n",
      "\n",
      "['id', 'title', 'url', 'num_points', 'num_comments', 'author', 'created_at']\n",
      "\n",
      "FIRST 3 ROWS:\n",
      "\n",
      "[['12224879', 'Interactive Dynamic Video', 'http://www.interactivedynamicvideo.com/', '386', '52', 'ne0phyte', '8/4/2016 11:52'], ['10975351', 'How to Use Open Source and Shut the Fuck Up at the Same Time', 'http://hueniverse.com/2016/01/26/how-to-use-open-source-and-shut-the-fuck-up-at-the-same-time/', '39', '10', 'josep2', '1/26/2016 19:30'], ['11964716', \"Florida DJs May Face Felony for April Fools' Water Joke\", 'http://www.thewire.com/entertainment/2013/04/florida-djs-april-fools-water-joke/63798/', '2', '1', 'vezycash', '6/23/2016 22:20']]\n"
     ]
    }
   ],
   "source": [
    "import csv\n",
    "\n",
    "with open('./dataset/hacker_news.csv') as data:\n",
    "    hn = list(csv.reader(data)) # data as list of lists\n",
    "\n",
    "hn_header = hn[0]\n",
    "hn = hn[1:]  # data without headers\n",
    "\n",
    "print(f'\\nHEADER:\\n\\n{hn_header}')\n",
    "print(f'\\nFIRST 3 ROWS:\\n\\n{hn[:3]}')\n"
   ]
  },
  {
   "cell_type": "markdown",
   "id": "1d09b070-e477-4e5e-9254-753764cfa51e",
   "metadata": {},
   "source": [
    "# Extracting Ask HN ans Show HN Posts\n",
    "\n",
    "First, we'll identify posts that begin with either `Ask HN` or `Show HN` and separate the data for those two types of posts into different lists. Separating the data makes it easier to analyze in the following steps."
   ]
  },
  {
   "cell_type": "code",
   "execution_count": 74,
   "id": "460e4390-47ee-49b8-8f15-01952ed6903d",
   "metadata": {},
   "outputs": [
    {
     "name": "stdout",
     "output_type": "stream",
     "text": [
      "[['12296411', 'Ask HN: How to improve my personal website?', '', '2', '6', 'ahmedbaracat', '8/16/2016 9:55'], ['10610020', 'Ask HN: Am I the only one outraged by Twitter shutting down share counts?', '', '28', '29', 'tkfx', '11/22/2015 13:43'], ['11610310', 'Ask HN: Aby recent changes to CSS that broke mobile?', '', '1', '1', 'polskibus', '5/2/2016 10:14']]\n",
      "\n",
      "Ask HN posst: 1744 \n",
      "Show HN posts: 1162 \n",
      "Other posts: 17194\n"
     ]
    }
   ],
   "source": [
    "ask_posts = []\n",
    "show_posts = []\n",
    "other_posts = []\n",
    "\n",
    "# With this method I have to put the exact title, so it is not valid\n",
    "\n",
    "#for row in hn:\n",
    "#    post = row[1]\n",
    "#    if post == 'Ask HN':\n",
    "#        ask_posts.append(row)\n",
    "#    elif post == 'Show HN':\n",
    "#        show_posts.append(row)\n",
    "#\n",
    "#print(ask_posts[:3])\n",
    "#print(show_posts[:3])\n",
    "\n",
    "for row in hn:\n",
    "    post = row[1]\n",
    "    if post.lower().startswith('ask hn'):\n",
    "        ask_posts.append(row)\n",
    "    elif post.lower().startswith('show hn'):\n",
    "        show_posts.append(row)\n",
    "    else:\n",
    "        other_posts.append(row)\n",
    "\n",
    "print(ask_posts[:3])\n",
    "#print(show_posts[:3])\n",
    "#print(other_posts[:3])\n",
    "\n",
    "print(f'\\nAsk HN posst: {len(ask_posts)} \\nShow HN posts: {len(show_posts)} \\nOther posts: {len(other_posts)}')"
   ]
  },
  {
   "cell_type": "markdown",
   "id": "d0e0d9f6-4e3f-4595-933a-271aa9fe8243",
   "metadata": {},
   "source": [
    "# Average Number of Comments for Ask HN and Show HN Posts\n",
    "\n",
    "Now that we separated ask posts and show posts into different lists, we'll calculate the average number of comments each type of post receives."
   ]
  },
  {
   "cell_type": "code",
   "execution_count": 58,
   "id": "77384608-09f3-41a9-9fce-51c561f2a195",
   "metadata": {},
   "outputs": [
    {
     "name": "stdout",
     "output_type": "stream",
     "text": [
      "Ask HN posts have a total of 24483 comments, with an average of 14.04 per post.\n",
      "Show HN posts have a total of 11988 comments, with an average of 10.32 per post.\n"
     ]
    }
   ],
   "source": [
    "\n",
    "ask_comments = 0\n",
    "show_comments = 0\n",
    "other_comments = 0\n",
    "\n",
    "# Average of comments in 'Ask HN' posts\n",
    "for post in ask_posts:\n",
    "    n_comments = int(post[4])\n",
    "    ask_comments += n_comments\n",
    "\n",
    "# Average of comments in 'Show HN' posts\n",
    "for post in show_posts:\n",
    "    n_comments = int(post[4])\n",
    "    show_comments += n_comments\n",
    "\n",
    "avg_ask_comments = ask_comments / len(ask_posts)\n",
    "avg_show_comments = show_comments / len(show_posts)\n",
    "\n",
    "print(f'Ask HN posts have a total of {ask_comments} comments, with an average of {round(avg_ask_comments,2)} per post.')\n",
    "print(f'Show HN posts have a total of {show_comments} comments, with an average of {round(avg_show_comments,2)} per post.')\n"
   ]
  },
  {
   "cell_type": "markdown",
   "id": "1b5f5f42-c83e-4219-ba72-4641701c7fb0",
   "metadata": {},
   "source": [
    "On average, ask posts in our sample receive approximately 14 comments, whereas show posts receive approximately 10. Since ask posts are more likely to receive comments, we'll focus our remaining analysis just on these posts."
   ]
  },
  {
   "cell_type": "markdown",
   "id": "0f248556-9ef0-48a8-9a5c-7b53f25fe71a",
   "metadata": {},
   "source": [
    "# Number of Ask posts and Comments by Hour created \n",
    "\n",
    "Next, we'll determine if we can maximize the amount of comments an ask post receives by creating it at a certain time. First, we'll find the amount of ask posts created during each hour of day, along with the number of comments those posts received. Then, we'll calculate the average amount of comments ask posts created at each hour of the day receive."
   ]
  },
  {
   "cell_type": "code",
   "execution_count": 90,
   "id": "856bc11c-2012-4825-b2b5-9639eb2bedbe",
   "metadata": {},
   "outputs": [
    {
     "name": "stdout",
     "output_type": "stream",
     "text": [
      "Posts created by hour:\n",
      " {'09': 45, '13': 85, '10': 59, '14': 107, '16': 108, '23': 68, '12': 73, '17': 100, '15': 116, '21': 109, '20': 80, '02': 58, '18': 109, '03': 54, '05': 46, '19': 110, '01': 60, '22': 71, '08': 48, '04': 47, '00': 55, '06': 44, '07': 34, '11': 58}\n",
      "\n",
      "Comments created by hour:\n",
      " {'09': 251, '13': 1253, '10': 793, '14': 1416, '16': 1814, '23': 543, '12': 687, '17': 1146, '15': 4477, '21': 1745, '20': 1722, '02': 1381, '18': 1439, '03': 421, '05': 464, '19': 1188, '01': 683, '22': 479, '08': 492, '04': 337, '00': 447, '06': 397, '07': 267, '11': 641}\n"
     ]
    }
   ],
   "source": [
    "import datetime as dt\n",
    "\n",
    "date_format = \"%m/%d/%Y %H:%M\"\n",
    "comments_hour = {}\n",
    "post_hour = {}\n",
    "\n",
    "for row in ask_posts:\n",
    "    creation_date = row[-1]\n",
    "    comments = int(row[4])\n",
    "    time = dt.datetime.strptime(creation_date,date_format).strftime('%H')\n",
    "    if time not in comments_hour:\n",
    "        comments_hour[time] = comments\n",
    "        post_hour[time] = 1\n",
    "    elif time in comments_hour:\n",
    "        comments_hour[time] += comments\n",
    "        post_hour[time] += 1\n",
    "\n",
    "print(f'Posts created by hour:\\n {post_hour}')\n",
    "print(f'\\nComments created by hour:\\n {comments_hour}')\n"
   ]
  },
  {
   "cell_type": "markdown",
   "id": "5c1f3456-eaf9-41f6-a5e1-194fb1faf28f",
   "metadata": {},
   "source": [
    "# Average Number of Comments for Ask HN Posts by Hour\n",
    "\n"
   ]
  },
  {
   "cell_type": "code",
   "execution_count": 93,
   "id": "d32d83a1-fc08-40ed-b50b-828b1cff55af",
   "metadata": {},
   "outputs": [
    {
     "data": {
      "text/plain": [
       "[['09', 5.5777777777777775],\n",
       " ['13', 14.741176470588234],\n",
       " ['10', 13.440677966101696],\n",
       " ['14', 13.233644859813085],\n",
       " ['16', 16.796296296296298],\n",
       " ['23', 7.985294117647059],\n",
       " ['12', 9.41095890410959],\n",
       " ['17', 11.46],\n",
       " ['15', 38.5948275862069],\n",
       " ['21', 16.009174311926607],\n",
       " ['20', 21.525],\n",
       " ['02', 23.810344827586206],\n",
       " ['18', 13.20183486238532],\n",
       " ['03', 7.796296296296297],\n",
       " ['05', 10.08695652173913],\n",
       " ['19', 10.8],\n",
       " ['01', 11.383333333333333],\n",
       " ['22', 6.746478873239437],\n",
       " ['08', 10.25],\n",
       " ['04', 7.170212765957447],\n",
       " ['00', 8.127272727272727],\n",
       " ['06', 9.022727272727273],\n",
       " ['07', 7.852941176470588],\n",
       " ['11', 11.051724137931034]]"
      ]
     },
     "execution_count": 93,
     "metadata": {},
     "output_type": "execute_result"
    }
   ],
   "source": [
    "avg_hour = []\n",
    "\n",
    "for time in comments_hour:\n",
    "    avg_comments = comments_hour[time] / post_hour[time]\n",
    "    avg_hour.append([time, avg_comments])\n",
    "\n",
    "avg_hour  "
   ]
  },
  {
   "cell_type": "markdown",
   "id": "3b72b9a4-037f-4d13-b332-b244387afe72",
   "metadata": {},
   "source": [
    "# Sorting and Printing Values from a List of Lists\n",
    "\n",
    "Although we now have the results we need, this format makes it difficult to identify the hours with the highest values. Let's finish by sorting the list of lists and printing the five highest values in a format that's easier to read."
   ]
  },
  {
   "cell_type": "code",
   "execution_count": 97,
   "id": "0e03bc5c-90e1-43da-889c-b1e227b230d3",
   "metadata": {},
   "outputs": [
    {
     "data": {
      "text/plain": [
       "[[38.5948275862069, '15'],\n",
       " [23.810344827586206, '02'],\n",
       " [21.525, '20'],\n",
       " [16.796296296296298, '16'],\n",
       " [16.009174311926607, '21'],\n",
       " [14.741176470588234, '13'],\n",
       " [13.440677966101696, '10'],\n",
       " [13.233644859813085, '14'],\n",
       " [13.20183486238532, '18'],\n",
       " [11.46, '17'],\n",
       " [11.383333333333333, '01'],\n",
       " [11.051724137931034, '11'],\n",
       " [10.8, '19'],\n",
       " [10.25, '08'],\n",
       " [10.08695652173913, '05'],\n",
       " [9.41095890410959, '12'],\n",
       " [9.022727272727273, '06'],\n",
       " [8.127272727272727, '00'],\n",
       " [7.985294117647059, '23'],\n",
       " [7.852941176470588, '07'],\n",
       " [7.796296296296297, '03'],\n",
       " [7.170212765957447, '04'],\n",
       " [6.746478873239437, '22'],\n",
       " [5.5777777777777775, '09']]"
      ]
     },
     "execution_count": 97,
     "metadata": {},
     "output_type": "execute_result"
    }
   ],
   "source": [
    "swap_avg_hour = []\n",
    "\n",
    "for row in avg_hour:\n",
    "    swap_avg_hour.append([row[1], row[0]])\n",
    "\n",
    "sorted_swap = sorted(swap_avg_hour, reverse=True)\n",
    "\n",
    "sorted_swap"
   ]
  },
  {
   "cell_type": "code",
   "execution_count": 100,
   "id": "604b450f-c377-434a-afe3-3cb16196c8b1",
   "metadata": {},
   "outputs": [
    {
     "name": "stdout",
     "output_type": "stream",
     "text": [
      "Top 5 Hours for 'Ask HN' Comments\n",
      "15:00: 38.59 average comments per post\n",
      "02:00: 23.81 average comments per post\n",
      "20:00: 21.52 average comments per post\n",
      "16:00: 16.80 average comments per post\n",
      "21:00: 16.01 average comments per post\n"
     ]
    }
   ],
   "source": [
    "\n",
    "print(\"Top 5 Hours for 'Ask HN' Comments\")\n",
    "for avg, time in sorted_swap[:5]:\n",
    "    print(\n",
    "        f\"{dt.datetime.strptime(time, '%H').strftime('%H:%M')}: {avg:.2f} average comments per post\"\n",
    "    )"
   ]
  },
  {
   "cell_type": "markdown",
   "id": "dbea5f5a-cb1d-4f91-9801-3400642460b5",
   "metadata": {},
   "source": [
    "The hour that receives the most comments per post on average is 15:00, with an average of 38.59 comments per post. There's about a 60% increase in the number of comments between the hours with the highest and second highest average number of comments.\n",
    "\n",
    "According to the data set [documentation](https://www.kaggle.com/datasets/hacker-news/hacker-news-posts), the timezone used is Eastern Time in the US. So, we could also write 15:00 as 3:00 pm est."
   ]
  },
  {
   "cell_type": "markdown",
   "id": "3f9e69f4-727e-4e5f-bace-e6a6cf58dcf9",
   "metadata": {},
   "source": [
    "# Conclusion\n",
    "\n",
    "In this project, we analyzed ask posts and show posts to determine which type of post and time receive the most comments on average. Based on our analysis, to maximize the amount of comments a post receives, we'd recommend the post be categorized as ask post and created between 15:00 and 16:00 (3:00 pm est - 4:00 pm est).\r\n",
    "\r\n",
    "However, it should be noted that the data set we analyzed excluded posts without any comments. Given that, it's more accurate to say that of the posts that received comments, ask posts received more comments on average and ask posts created between 15:00 and 16:00 (3:00 pm est - 4:00 pm est) received the most comments on average."
   ]
  }
 ],
 "metadata": {
  "kernelspec": {
   "display_name": "Python 3 (ipykernel)",
   "language": "python",
   "name": "python3"
  },
  "language_info": {
   "codemirror_mode": {
    "name": "ipython",
    "version": 3
   },
   "file_extension": ".py",
   "mimetype": "text/x-python",
   "name": "python",
   "nbconvert_exporter": "python",
   "pygments_lexer": "ipython3",
   "version": "3.11.7"
  }
 },
 "nbformat": 4,
 "nbformat_minor": 5
}
